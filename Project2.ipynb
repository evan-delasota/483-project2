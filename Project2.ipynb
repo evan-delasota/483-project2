{
  "nbformat": 4,
  "nbformat_minor": 0,
  "metadata": {
    "colab": {
      "name": "Project2.ipynb",
      "provenance": [],
      "collapsed_sections": [],
      "authorship_tag": "ABX9TyNAlTt+b377M9t59Zr2OvQi",
      "include_colab_link": true
    },
    "kernelspec": {
      "name": "python3",
      "display_name": "Python 3"
    },
    "language_info": {
      "name": "python"
    }
  },
  "cells": [
    {
      "cell_type": "markdown",
      "metadata": {
        "id": "view-in-github",
        "colab_type": "text"
      },
      "source": [
        "<a href=\"https://colab.research.google.com/github/evan-delasota/483-project2/blob/main/Project2.ipynb\" target=\"_parent\"><img src=\"https://colab.research.google.com/assets/colab-badge.svg\" alt=\"Open In Colab\"/></a>"
      ]
    },
    {
      "cell_type": "markdown",
      "metadata": {
        "id": "OPqP9jyQ-ShK"
      },
      "source": [
        "#Group Members: Evan Delasota, </br>\n",
        "#Semester: Fall 2021 Section: 01 Project: 2"
      ]
    },
    {
      "cell_type": "markdown",
      "metadata": {
        "id": "AddRgdcgOBKp"
      },
      "source": [
        "1. Importing required libraries, loading dataset, and defining helper methods."
      ]
    },
    {
      "cell_type": "code",
      "metadata": {
        "id": "C5Y7NIiZLNC3"
      },
      "source": [
        "import numpy as np\n",
        "import numpy.linalg as la\n",
        "import matplotlib.pyplot as plot\n",
        "import numpy.polynomial as p\n",
        "\n",
        "def normal_eq(x, y):\n",
        "  beta = np.dot((la.inv(np.dot(x.T, x))), np.dot(x.T, y))\n",
        "  return beta\n",
        "\n",
        "def predict(x, beta):\n",
        "  return np.dot(x, beta)\n",
        "\n",
        "def metrics(predictions, y):\n",
        "\n",
        "  MAE = np.mean(np.abs(predictions - y))\n",
        "  \n",
        "  loss = np.mean((predictions - y)**2)\n",
        "\n",
        "  rss = np.sum(np.square((y - predictions)))\n",
        "  mean = np.mean(y)\n",
        "  sst = np.sum(np.square(y - mean))\n",
        "  RSQ = 1 - (rss / sst)\n",
        "\n",
        "  return MAE, loss, RSQ\n",
        "\n",
        "#1\n",
        "ds = (\"dataset.csv\")"
      ],
      "execution_count": null,
      "outputs": []
    },
    {
      "cell_type": "markdown",
      "metadata": {
        "id": "Nc1rUJb3LZ1f"
      },
      "source": [
        "2. Splitting dataset into two sets - training (90%) and testing. (10%)"
      ]
    },
    {
      "cell_type": "code",
      "metadata": {
        "id": "JDhkDt9uLW_k"
      },
      "source": [
        "#2 10% of data, used for testing\n",
        "x1_test, x2_test, y_test = np.loadtxt(ds, dtype=np.float64, unpack=True, skiprows=1, delimiter=',', max_rows=101)\n",
        "# 90% of data, used for training/validation\n",
        "x1_train, x2_train, y_train = np.loadtxt(ds, dtype=np.float64, unpack=True, skiprows=101, delimiter=',', max_rows=1001)"
      ],
      "execution_count": null,
      "outputs": []
    },
    {
      "cell_type": "markdown",
      "metadata": {
        "id": "KRI0KRkKLacF"
      },
      "source": [
        "3. Fitting the linear model using numpy.linalg, using the beta values returned from normal_eq to form F(n)."
      ]
    },
    {
      "cell_type": "code",
      "metadata": {
        "colab": {
          "base_uri": "https://localhost:8080/"
        },
        "id": "ILlTCCi7LbEX",
        "outputId": "78bd5ebf-2e47-4ac1-db88-1a2cd7f0d775"
      },
      "source": [
        "#3\n",
        "x_tr = np.asarray((x1_train, x2_train)).T\n",
        "one = np.ones((len(x_tr), 1))\n",
        "x_tr = np.append(one, x_tr, axis=1)\n",
        "y_tr = np.array(y_train).reshape((len(y_train), 1))\n",
        "\n",
        "beta_tr = normal_eq(x_tr, y_tr)\n",
        "predictions_tr = predict(x_tr, beta_tr)\n",
        "\n",
        "print(\"Linear Training Equation: y =\", beta_tr[0][0], \" + \", beta_tr[1][0],\"*x1 + \", beta_tr[2][0], \"*x2\", sep=\"\")"
      ],
      "execution_count": null,
      "outputs": [
        {
          "output_type": "stream",
          "name": "stdout",
          "text": [
            "Linear Training Equation: y =0.5908808613987592 + 0.049352787841159144*x1 + 0.007636173337959571*x2\n"
          ]
        }
      ]
    },
    {
      "cell_type": "markdown",
      "metadata": {
        "id": "H1Gcx8WNLedw"
      },
      "source": [
        "4. Finding the MSE of the linear training model using the metrics method."
      ]
    },
    {
      "cell_type": "code",
      "metadata": {
        "colab": {
          "base_uri": "https://localhost:8080/"
        },
        "id": "LKt8-TO3LfBc",
        "outputId": "86df80da-64e5-4a1a-fd90-fbe3cb49ef64"
      },
      "source": [
        "#4 \n",
        "mae, loss, r_square = metrics(predictions_tr, y_tr)\n",
        "print(\"Linear Training MSE:\", loss)"
      ],
      "execution_count": null,
      "outputs": [
        {
          "output_type": "stream",
          "name": "stdout",
          "text": [
            "Linear Training MSE: 8.59124007116325\n"
          ]
        }
      ]
    },
    {
      "cell_type": "markdown",
      "metadata": {
        "id": "2VZN4RRqLiTq"
      },
      "source": [
        "5. Creating, then attaching polynomial features to dataset, then using normal_eq to form the quadratic variant of F(n) </br> Once complete, MSE for the quadratic equation is found using the metrics method.\n",
        "\n"
      ]
    },
    {
      "cell_type": "code",
      "metadata": {
        "colab": {
          "base_uri": "https://localhost:8080/"
        },
        "id": "7zPfcN6lLisx",
        "outputId": "d29043b7-5e0a-4567-ce38-2afcffefd9ba"
      },
      "source": [
        "#5\n",
        "x1s_train = x1_train ** 2\n",
        "x2s_train = x2_train ** 2\n",
        "x_tr = np.asarray((x1_train, x2_train, x1s_train, x2s_train)).T\n",
        "one = np.ones((len(x_tr), 1))\n",
        "x_tr = np.append(one, x_tr, axis=1)\n",
        "\n",
        "beta_tr = normal_eq(x_tr, y_tr)\n",
        "predictions_tr = predict(x_tr, beta_tr)\n",
        "mae, loss, r_square = metrics(predictions_tr, y_tr)\n",
        "print(\"Quadratic Training Equation: y = \", beta_tr[0][0], \" + \", beta_tr[1][0],\"*x1 + \", beta_tr[2][0], \"*x2 + \", beta_tr[3][0], \"*x1^1 + \", beta_tr[4][0], \"*x2^2\", sep=\"\")\n",
        "print(\"Quadratic Training MSE: \", loss)"
      ],
      "execution_count": null,
      "outputs": [
        {
          "output_type": "stream",
          "name": "stdout",
          "text": [
            "Quadratic Training Equation: y = 0.4842356179255345 + 0.04961767563087478*x1 + 0.010217471705324476*x2 + 0.031784447742535624*x1^1 + 0.00583313294383142*x2^2\n",
            "Quadratic Training MSE:  8.58031028984494\n"
          ]
        }
      ]
    },
    {
      "cell_type": "markdown",
      "metadata": {
        "id": "RAAmm9mSLl6t"
      },
      "source": [
        "6. Finding both the linear and quadratic MSE values of the test dataset using the same methods used for the training dataset."
      ]
    },
    {
      "cell_type": "code",
      "metadata": {
        "id": "muXPbWvk-1--",
        "colab": {
          "base_uri": "https://localhost:8080/"
        },
        "outputId": "0ae98f61-114e-4b03-9365-3115a819331c"
      },
      "source": [
        "#6\n",
        "x_te = np.asarray((x1_test, x2_test)).T\n",
        "one = np.ones((len(x_te), 1))\n",
        "x_te = np.append(one, x_te, axis=1)\n",
        "y_te = np.array(y_test).reshape((len(y_test), 1))\n",
        "\n",
        "beta_te = normal_eq(x_te, y_te)\n",
        "predictions_te = predict(x_te, beta_te)\n",
        "\n",
        "mae, loss, r_square = metrics(predictions_te, y_te)\n",
        "print(\"Linear Test MSE: \", loss)\n",
        "\n",
        "x1s_test = x1_test ** 2\n",
        "x2s_test = x2_test ** 2\n",
        "x_te = np.asarray((x1_test, x2_test, x1s_test, x2s_test)).T\n",
        "one = np.ones((len(x_te), 1))\n",
        "x_te = np.append(one, x_te, axis=1)\n",
        "\n",
        "beta_te = normal_eq(x_te, y_te)\n",
        "predictions_te = predict(x_te, beta_te)\n",
        "\n",
        "mae, loss, r_square = metrics(predictions_te, y_te)\n",
        "print(\"Quadratic Test MSE: \", loss)\n",
        "\n",
        "#beta_hat = np.linalg.lstsq(features, y, rcond=None)[0]\n"
      ],
      "execution_count": null,
      "outputs": [
        {
          "output_type": "stream",
          "name": "stdout",
          "text": [
            "Linear Test MSE:  7.160398282784341\n",
            "Quadratic Test MSE:  7.129857112904874\n"
          ]
        }
      ]
    },
    {
      "cell_type": "markdown",
      "metadata": {
        "id": "b-sgKi50KgaJ"
      },
      "source": [
        "7."
      ]
    },
    {
      "cell_type": "code",
      "metadata": {
        "id": "MsPlvGzWKf9m"
      },
      "source": [
        ""
      ],
      "execution_count": null,
      "outputs": []
    },
    {
      "cell_type": "markdown",
      "metadata": {
        "id": "X-rDQlzsK5Os"
      },
      "source": [
        "8.\n"
      ]
    },
    {
      "cell_type": "code",
      "metadata": {
        "id": "SIMqjRFRPpF8"
      },
      "source": [
        ""
      ],
      "execution_count": null,
      "outputs": []
    },
    {
      "cell_type": "markdown",
      "metadata": {
        "id": "_gLLRQlHPpk5"
      },
      "source": [
        "9.\n"
      ]
    },
    {
      "cell_type": "code",
      "metadata": {
        "id": "xWllQZnWPqdS"
      },
      "source": [
        ""
      ],
      "execution_count": null,
      "outputs": []
    },
    {
      "cell_type": "markdown",
      "metadata": {
        "id": "cwOhDSETPqys"
      },
      "source": [
        "10."
      ]
    },
    {
      "cell_type": "code",
      "metadata": {
        "id": "Yxir7QUMPrVO"
      },
      "source": [
        ""
      ],
      "execution_count": null,
      "outputs": []
    },
    {
      "cell_type": "markdown",
      "metadata": {
        "id": "HtgcyWrzPr1r"
      },
      "source": [
        "11."
      ]
    },
    {
      "cell_type": "code",
      "metadata": {
        "id": "3v03QAIjPsbv"
      },
      "source": [
        ""
      ],
      "execution_count": null,
      "outputs": []
    },
    {
      "cell_type": "markdown",
      "metadata": {
        "id": "EHUkLRfgPtJX"
      },
      "source": [
        "12."
      ]
    },
    {
      "cell_type": "code",
      "metadata": {
        "id": "-f9NlCE3Pt9B"
      },
      "source": [
        ""
      ],
      "execution_count": null,
      "outputs": []
    }
  ]
}